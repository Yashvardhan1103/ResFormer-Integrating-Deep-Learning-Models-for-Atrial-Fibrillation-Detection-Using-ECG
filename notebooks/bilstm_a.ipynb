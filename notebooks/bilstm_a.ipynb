{
 "cells": [
  {
   "cell_type": "code",
   "execution_count": 1,
   "metadata": {},
   "outputs": [
    {
     "name": "stdout",
     "output_type": "stream",
     "text": [
      "c:\\Users\\yashv\\Downloads\\HADLN_implementation\\HADLN_implementation\\notebooks\n",
      "C:\\Users\\yashv\\Downloads\\HADLN_implementation\\HADLN_implementation\n"
     ]
    }
   ],
   "source": [
    "import os\n",
    "\n",
    "# Check current working directory\n",
    "print(os.getcwd())\n",
    "\n",
    "# Change to the root directory of your project, if necessary\n",
    "os.chdir('C:/Users/yashv/Downloads/HADLN_implementation/HADLN_implementation/')\n",
    "print(os.getcwd())\n"
   ]
  },
  {
   "cell_type": "code",
   "execution_count": 2,
   "metadata": {},
   "outputs": [],
   "source": [
    "import numpy as np\n",
    "import pandas as pd\n",
    "import tensorflow as tf\n",
    "from sklearn.model_selection import train_test_split\n",
    "from sklearn.utils.class_weight import compute_class_weight\n",
    "from tensorflow.keras.callbacks import ModelCheckpoint, TensorBoard, ReduceLROnPlateau, EarlyStopping\n",
    "from datetime import datetime\n"
   ]
  },
  {
   "cell_type": "code",
   "execution_count": 3,
   "metadata": {},
   "outputs": [],
   "source": [
    "def create_bi_gru_model(time_step, num_features, num_classes=4, lstm_units=128, dropout_rate=0.3):\n",
    "    \"\"\"\n",
    "    Function to define a Bi-GRU model for ECG classification.\n",
    "    \n",
    "    Args:\n",
    "        time_step (int): Number of time steps in the input.\n",
    "        num_features (int): Number of features in the input.\n",
    "        num_classes (int): Number of output classes.\n",
    "        lstm_units (int): Number of GRU units for the Bidirectional layers.\n",
    "        dropout_rate (float): Dropout rate to avoid overfitting.\n",
    "    \n",
    "    Returns:\n",
    "        model (tf.keras.Model): Compiled Bi-GRU model.\n",
    "    \"\"\"\n",
    "    # Input layer\n",
    "    inputs = tf.keras.layers.Input(shape=(time_step, num_features))\n",
    "    \n",
    "    # Bi-GRU layers\n",
    "    x = tf.keras.layers.Bidirectional(tf.keras.layers.GRU(units=256, return_sequences=True))(inputs)\n",
    "    x = tf.keras.layers.Dropout(dropout_rate)(x)\n",
    "    x = tf.keras.layers.Bidirectional(tf.keras.layers.GRU(units=128, return_sequences=False))(x)\n",
    "    x = tf.keras.layers.Dropout(dropout_rate)(x)\n",
    "    \n",
    "    # Fully connected layers\n",
    "    x = tf.keras.layers.Dense(units=128, activation='relu')(x)\n",
    "    x = tf.keras.layers.Dropout(dropout_rate)(x)\n",
    "    x = tf.keras.layers.Dense(units=64, activation='relu')(x)\n",
    "    \n",
    "    # Output layer (Softmax for multi-class classification)\n",
    "    outputs = tf.keras.layers.Dense(units=num_classes, activation='softmax')(x)\n",
    "    \n",
    "    # Create model\n",
    "    model = tf.keras.models.Model(inputs=inputs, outputs=outputs)\n",
    "    "
   ]
  },
  {
   "cell_type": "markdown",
   "metadata": {},
   "source": [
    "data pre processing"
   ]
  },
  {
   "cell_type": "code",
   "execution_count": 4,
   "metadata": {},
   "outputs": [],
   "source": [
    "# Load dataset\n",
    "csv_file_path = 'data/raw/physionet2017.csv'  # Update with the correct path\n",
    "data = pd.read_csv(csv_file_path)\n",
    "\n",
    "# Extract features and labels\n",
    "X = data.iloc[:, :-2].values  # All columns except the last two are features\n",
    "y = data.iloc[:, -1].values  # Last column is the label\n",
    "\n",
    "# One-hot encode labels\n",
    "y_one_hot = tf.keras.utils.to_categorical(y, num_classes=4)\n",
    "\n",
    "# Split data into training and testing sets\n",
    "X_train, X_test, y_train, y_test = train_test_split(X, y_one_hot, test_size=0.2, random_state=42)\n",
    "\n",
    "# Reshape input data to match model expectations (batch_size, time_steps, num_features)\n",
    "X_train = X_train.reshape((X_train.shape[0], X_train.shape[1], 1))\n",
    "X_test = X_test.reshape((X_test.shape[0], X_test.shape[1], 1))\n"
   ]
  },
  {
   "cell_type": "markdown",
   "metadata": {},
   "source": [
    "compiling model"
   ]
  },
  {
   "cell_type": "code",
   "execution_count": 7,
   "metadata": {},
   "outputs": [
    {
     "ename": "ValueError",
     "evalue": "Model creation failed, returned NoneType.",
     "output_type": "error",
     "traceback": [
      "\u001b[1;31m---------------------------------------------------------------------------\u001b[0m",
      "\u001b[1;31mValueError\u001b[0m                                Traceback (most recent call last)",
      "Cell \u001b[1;32mIn[7], line 13\u001b[0m\n\u001b[0;32m     11\u001b[0m     model\u001b[38;5;241m.\u001b[39msummary()\n\u001b[0;32m     12\u001b[0m \u001b[38;5;28;01melse\u001b[39;00m:\n\u001b[1;32m---> 13\u001b[0m     \u001b[38;5;28;01mraise\u001b[39;00m \u001b[38;5;167;01mValueError\u001b[39;00m(\u001b[38;5;124m\"\u001b[39m\u001b[38;5;124mModel creation failed, returned NoneType.\u001b[39m\u001b[38;5;124m\"\u001b[39m)\n",
      "\u001b[1;31mValueError\u001b[0m: Model creation failed, returned NoneType."
     ]
    }
   ],
   "source": [
    "# Extract time_step and num_features\n",
    "time_step = X_train.shape[1]\n",
    "num_features = X_train.shape[2]\n",
    "\n",
    "# Build and compile the Bi-GRU model\n",
    "num_classes = 4\n",
    "model = create_bi_gru_model(time_step, num_features, num_classes=num_classes)\n",
    "\n",
    "# Debugging: Print model summary to verify successful creation\n",
    "if model is not None:\n",
    "    model.summary()\n",
    "else:\n",
    "    raise ValueError(\"Model creation failed, returned NoneType.\")"
   ]
  },
  {
   "cell_type": "code",
   "execution_count": 5,
   "metadata": {},
   "outputs": [],
   "source": [
    "# defining callbacks for training\n",
    "\n",
    "log_dir = f\"logs/tensorboard/BiLSTM/{datetime.now().strftime('%Y%m%d-%H%M%S')}\"\n",
    "checkpoint_callback = ModelCheckpoint(filepath='bilstm_best_model.h5', save_best_only=True, verbose=1)\n",
    "tensorboard_callback = TensorBoard(log_dir=log_dir, histogram_freq=1)\n",
    "lr_scheduler = ReduceLROnPlateau(monitor='val_loss', factor=0.5, patience=3, min_lr=1e-8)\n",
    "early_stopping = EarlyStopping(monitor='val_loss', patience=10, restore_best_weights=True)\n",
    "callbacks = [checkpoint_callback, tensorboard_callback, lr_scheduler, early_stopping]"
   ]
  },
  {
   "cell_type": "code",
   "execution_count": null,
   "metadata": {},
   "outputs": [],
   "source": [
    "# Calculate class weights to handle class imbalance\n",
    "class_weights = compute_class_weight(class_weight='balanced', classes=np.unique(y), y=y)\n",
    "class_weights = dict(enumerate(class_weights))\n",
    "\n",
    "# Train the model\n",
    "history = model.fit(\n",
    "    X_train, y_train,\n",
    "    validation_data=(X_test, y_test),\n",
    "    epochs=100,\n",
    "    batch_size=32,\n",
    "    class_weight=class_weights,\n",
    "    callbacks=callbacks\n",
    ")"
   ]
  }
 ],
 "metadata": {
  "kernelspec": {
   "display_name": "tf",
   "language": "python",
   "name": "python3"
  },
  "language_info": {
   "codemirror_mode": {
    "name": "ipython",
    "version": 3
   },
   "file_extension": ".py",
   "mimetype": "text/x-python",
   "name": "python",
   "nbconvert_exporter": "python",
   "pygments_lexer": "ipython3",
   "version": "3.9.19"
  }
 },
 "nbformat": 4,
 "nbformat_minor": 2
}
